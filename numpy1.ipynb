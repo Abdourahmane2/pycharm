{
 "cells": [
  {
   "cell_type": "code",
   "execution_count": 17,
   "id": "fbdf4632",
   "metadata": {},
   "outputs": [
    {
     "data": {
      "text/plain": [
       "array([[18, 24, 30],\n",
       "       [38, 52, 66]])"
      ]
     },
     "execution_count": 17,
     "metadata": {},
     "output_type": "execute_result"
    }
   ],
   "source": [
    "import random\n",
    "import numpy as np\n",
    "\n",
    "tab1 = np.array([[1 , 2] , [3 , 4] , [4 , 5]]) #creer une matrice\n",
    "np.ones((3 , 5))\n",
    "np.zeros((2 , 5))\n",
    "np.random.random((2,2))\n",
    "np.random.randint(1,10 , size=(3,3)) #entier entre 1 et 10\n",
    "#exemple\n",
    "\n",
    "A = np.array([[1, 2], [3, 4]])\n",
    "B = np.array([[5, 10], [15, 20]])\n",
    "C = np.array([[2, 4, 6], [8, 10, 12]])\n",
    "\n",
    "A+B\n",
    "A@C #produit matricielle ou np.dot(a , c)\n"
   ]
  },
  {
   "cell_type": "code",
   "execution_count": 34,
   "id": "123676f9",
   "metadata": {},
   "outputs": [
    {
     "data": {
      "text/plain": [
       "array([1800, 1500, 2200, 3000, 2172, 5000, 1400, 1200, 1100, 1300])"
      ]
     },
     "execution_count": 34,
     "metadata": {},
     "output_type": "execute_result"
    }
   ],
   "source": [
    "#exercice\n",
    "\n",
    "hugo = [1800, 21, 0]\n",
    "richard = [1500, 54, 2]\n",
    "emilie = [2200, 28, 3]\n",
    "pierre = [3000, 37, 1]\n",
    "paul = [2172, 37, 2]\n",
    "deborah = [5000, 32, 0]\n",
    "yohann = [1400, 23, 0]\n",
    "anne = [1200, 25, 1]\n",
    "thibault = [1100, 19, 0]\n",
    "emmanuel = [1300, 31, 2]\n",
    "\n",
    "tableau = [hugo, richard, emilie, pierre, paul, deborah,\n",
    "           yohann, anne, thibault, emmanuel]\n",
    "\n",
    "data = np.array(tableau)\n",
    "\n",
    "louise = [1900 , 31 , 1]\n",
    "\n",
    "np.vstack((data , louise)) #ajouter louise a data\n",
    "\n",
    "revenu = data[: , 0] #afficher tous les salaires\n",
    "revenu\n"
   ]
  },
  {
   "cell_type": "code",
   "execution_count": null,
   "id": "c7eccdce",
   "metadata": {},
   "outputs": [],
   "source": []
  }
 ],
 "metadata": {
  "kernelspec": {
   "display_name": "Python 3 (ipykernel)",
   "language": "python",
   "name": "python3"
  },
  "language_info": {
   "codemirror_mode": {
    "name": "ipython",
    "version": 3
   },
   "file_extension": ".py",
   "mimetype": "text/x-python",
   "name": "python",
   "nbconvert_exporter": "python",
   "pygments_lexer": "ipython3",
   "version": "3.9.13"
  }
 },
 "nbformat": 4,
 "nbformat_minor": 5
}
