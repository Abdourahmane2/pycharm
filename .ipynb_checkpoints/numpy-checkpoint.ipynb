{
 "cells": [
  {
   "cell_type": "code",
   "execution_count": 44,
   "id": "9a5f82b1",
   "metadata": {},
   "outputs": [
    {
     "name": "stdout",
     "output_type": "stream",
     "text": [
      "1500\n",
      "2000\n",
      "[1200 1500 1800]\n",
      "[1800 2000]\n",
      "[1200 2000]\n",
      "[2000 1800 1500 1200]\n"
     ]
    },
    {
     "data": {
      "text/plain": [
       "1200"
      ]
     },
     "execution_count": 44,
     "metadata": {},
     "output_type": "execute_result"
    }
   ],
   "source": [
    "import numpy as np\n",
    "revenu = [1200 , 1500 , 1800 , 2000]\n",
    "revenu_array = np.array(revenu) #creation d'un array\n",
    "np.mean(revenu_array) #calculer la moyenne de ce tableau\n",
    "#acces au elements d'un array\n",
    "print(revenu_array[1])\n",
    "print(revenu_array[-1])\n",
    "print(revenu_array[:3])\n",
    "print(revenu_array[2:])\n",
    "print(revenu_array[::3])\n",
    "print(revenu_array[::-1])\n",
    "revenu_array[(revenu_array>1200) & (revenu_array<2000)]\n",
    "revenu_array.shape\n",
    "revenu_array.max()\n",
    "revenu_array.min()\n",
    "\n"
   ]
  },
  {
   "cell_type": "code",
   "execution_count": 15,
   "id": "270fb343",
   "metadata": {},
   "outputs": [
    {
     "data": {
      "text/plain": [
       "array([1. , 1.5, 2. , 2.5, 3. ])"
      ]
     },
     "execution_count": 15,
     "metadata": {},
     "output_type": "execute_result"
    }
   ],
   "source": [
    "# fonction de creation d'un array selon des criteres\n",
    "np.zeros(3)\n",
    "np.ones(3)\n",
    "np.arange(1,10,2)\n",
    "np.linspace(1,3 , 5 )"
   ]
  },
  {
   "cell_type": "code",
   "execution_count": null,
   "id": "df5e4f13",
   "metadata": {},
   "outputs": [],
   "source": [
    "#exercice\n",
    "liste = [1800, 1500, 2200, 3000, 2172, 5000, 1400, 1200, 1100, 1300]\n",
    "\n",
    "revenu  = np.array(liste)\n"
   ]
  }
 ],
 "metadata": {
  "kernelspec": {
   "display_name": "Python 3 (ipykernel)",
   "language": "python",
   "name": "python3"
  },
  "language_info": {
   "codemirror_mode": {
    "name": "ipython",
    "version": 3
   },
   "file_extension": ".py",
   "mimetype": "text/x-python",
   "name": "python",
   "nbconvert_exporter": "python",
   "pygments_lexer": "ipython3",
   "version": "3.9.13"
  }
 },
 "nbformat": 4,
 "nbformat_minor": 5
}
